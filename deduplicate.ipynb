{
 "cells": [
  {
   "cell_type": "code",
   "execution_count": 2,
   "metadata": {},
   "outputs": [],
   "source": [
    "%load_ext autoreload\n",
    "%autoreload 2"
   ]
  },
  {
   "cell_type": "code",
   "execution_count": 3,
   "metadata": {},
   "outputs": [],
   "source": [
    "from constrerl.evaluate import (\n",
    "    eval_submission_6_3_ternary_tag_RE,\n",
    "    eval_submission_6_4_ternary_mention_RE,\n",
    "    eval_submission_6_2_binary_tag_RE,\n",
    ")\n",
    "from constrerl.erl_schema import (\n",
    "    convert_to_output,\n",
    "    Article,\n",
    "    BinaryTagBasedRelation,\n",
    "    TernaryTagBasedRelation,\n",
    "    TernaryMentionBasedRelation,\n",
    ")\n",
    "from constrerl.annotator import load_train\n",
    "import glob\n",
    "from pathlib import Path\n",
    "import json\n",
    "import pandas as pd\n",
    "from collections.abc import Callable, Awaitable\n"
   ]
  },
  {
   "cell_type": "code",
   "execution_count": 4,
   "metadata": {},
   "outputs": [],
   "source": [
    "results_dir = \"data/results_dev\"\n",
    "deduplicate_dir = \"data/dedupe_dev\"\n",
    "results_dir = Path(results_dir)"
   ]
  },
  {
   "cell_type": "code",
   "execution_count": 10,
   "metadata": {},
   "outputs": [],
   "source": [
    "eval_results: list[dict] = []\n",
    "\n",
    "\n",
    "for result_file in results_dir.glob(\"*.json\"):\n",
    "    data = load_train(result_file)\n",
    "    cleaned_data: dict[str, Article] = {}\n",
    "    for id in data.keys():\n",
    "        article = data[id]\n",
    "        cleaned_article = Article(\n",
    "            binary_tag_based_relations=[],\n",
    "            ternary_tag_based_relations=[],\n",
    "            ternary_mention_based_relations=[],\n",
    "        )\n",
    "        added_spos = set()\n",
    "        for a in article.ternary_mention_based_relations:\n",
    "            k = a.subject_label, a.predicate, a.object_label\n",
    "            if k in added_spos:\n",
    "                continue\n",
    "            cleaned_article.binary_tag_based_relations.append(\n",
    "                BinaryTagBasedRelation(\n",
    "                    subject_label=a.subject_label,\n",
    "                    object_label=a.object_label,\n",
    "                )\n",
    "            )\n",
    "            cleaned_article.ternary_tag_based_relations.append(\n",
    "                TernaryTagBasedRelation(\n",
    "                    subject_label=a.subject_label,\n",
    "                    predicate=a.predicate,\n",
    "                    object_label=a.object_label,\n",
    "                )\n",
    "            )\n",
    "            cleaned_article.ternary_mention_based_relations.append(\n",
    "                TernaryMentionBasedRelation(\n",
    "                    subject_text_span=a.subject_text_span,\n",
    "                    subject_label=a.subject_label,\n",
    "                    predicate=a.predicate,\n",
    "                    object_text_span=a.object_text_span,\n",
    "                    object_label=a.object_label,\n",
    "                )\n",
    "            )\n",
    "            added_spos.add((a.subject_label, a.predicate, a.object_label))\n",
    "\n",
    "        cleaned_data[id] = cleaned_article\n",
    "\n",
    "    with open(Path(deduplicate_dir) / result_file.name, \"w\") as f:\n",
    "        json.dump(\n",
    "            {id: article.model_dump() for id, article in cleaned_data.items()},\n",
    "            f,\n",
    "            indent=2,\n",
    "        )"
   ]
  },
  {
   "cell_type": "code",
   "execution_count": null,
   "metadata": {},
   "outputs": [],
   "source": []
  },
  {
   "cell_type": "code",
   "execution_count": null,
   "metadata": {},
   "outputs": [],
   "source": []
  }
 ],
 "metadata": {
  "kernelspec": {
   "display_name": ".venv",
   "language": "python",
   "name": "python3"
  },
  "language_info": {
   "codemirror_mode": {
    "name": "ipython",
    "version": 3
   },
   "file_extension": ".py",
   "mimetype": "text/x-python",
   "name": "python",
   "nbconvert_exporter": "python",
   "pygments_lexer": "ipython3",
   "version": "3.12.8"
  }
 },
 "nbformat": 4,
 "nbformat_minor": 2
}
