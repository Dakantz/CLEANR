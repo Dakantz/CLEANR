{
 "cells": [
  {
   "cell_type": "code",
   "execution_count": 1,
   "metadata": {},
   "outputs": [],
   "source": [
    "%load_ext autoreload\n",
    "%autoreload 2"
   ]
  },
  {
   "cell_type": "code",
   "execution_count": 2,
   "metadata": {},
   "outputs": [],
   "source": [
    "from constrerl.annotator import (\n",
    "    Annotator,\n",
    "    EnumERLModel,\n",
    "    StringERLModel,\n",
    "    convert_to_enum_model,\n",
    "    convert_to_string_model,\n",
    "    load_test,\n",
    "    load_train,\n",
    "    Article,\n",
    ")\n",
    "from constrerl.annotator import Annotator\n",
    "from constrerl.db_schema import (\n",
    "    RelDocument,\n",
    ")\n",
    "import json"
   ]
  },
  {
   "cell_type": "code",
   "execution_count": 3,
   "metadata": {},
   "outputs": [],
   "source": [
    "import pathlib as pl"
   ]
  },
  {
   "cell_type": "code",
   "execution_count": 4,
   "metadata": {},
   "outputs": [
    {
     "data": {
      "text/plain": [
       "[PosixPath('data/annotations/train/train_bronze.json'),\n",
       " PosixPath('data/annotations/train/train_gold.json'),\n",
       " PosixPath('data/annotations/train/train_platinum.json'),\n",
       " PosixPath('data/annotations/train/train_silver.json')]"
      ]
     },
     "execution_count": 4,
     "metadata": {},
     "output_type": "execute_result"
    }
   ],
   "source": [
    "train_data_dir = pl.Path(\"data/annotations/train\")\n",
    "test_data_dir = pl.Path(\"data/annotations/dev\")\n",
    "train_data_files = list(train_data_dir.glob(\"*.json\"))\n",
    "test_data_files = list(test_data_dir.glob(\"*.json\"))\n",
    "train_data_files"
   ]
  },
  {
   "cell_type": "code",
   "execution_count": 5,
   "metadata": {},
   "outputs": [
    {
     "name": "stderr",
     "output_type": "stream",
     "text": [
      "Embedding articles: 0it [00:00, ?it/s]\n"
     ]
    },
    {
     "name": "stdout",
     "output_type": "stream",
     "text": [
      "Embedding bronze\n"
     ]
    },
    {
     "name": "stderr",
     "output_type": "stream",
     "text": [
      "Embedding articles: 100%|██████████| 749/749 [00:07<00:00, 104.60it/s]\n"
     ]
    },
    {
     "name": "stdout",
     "output_type": "stream",
     "text": [
      "Embedding gold\n"
     ]
    },
    {
     "name": "stderr",
     "output_type": "stream",
     "text": [
      "Embedding articles: 100%|██████████| 208/208 [00:01<00:00, 108.14it/s]\n"
     ]
    },
    {
     "name": "stdout",
     "output_type": "stream",
     "text": [
      "Embedding platinum\n"
     ]
    },
    {
     "name": "stderr",
     "output_type": "stream",
     "text": [
      "Embedding articles: 100%|██████████| 111/111 [00:01<00:00, 93.45it/s]\n"
     ]
    },
    {
     "name": "stdout",
     "output_type": "stream",
     "text": [
      "Embedding silver\n"
     ]
    },
    {
     "name": "stderr",
     "output_type": "stream",
     "text": [
      "Embedding articles: 100%|██████████| 499/499 [00:04<00:00, 109.69it/s]\n"
     ]
    }
   ],
   "source": [
    "\n",
    "train_data: dict[str, Article] = {}\n",
    "annotator = Annotator()\n",
    "annotator.embed_articles([])\n",
    "for file in train_data_files:\n",
    "    train_data_file = load_train(file)\n",
    "    collection = file.name.split(\".\")[0].split(\"_\")[1]\n",
    "    print(f\"Embedding {collection}\")\n",
    "    annotator.embed_articles(\n",
    "        list(train_data_file.values()), setup_db=True, collection=collection\n",
    "    )"
   ]
  }
 ],
 "metadata": {
  "kernelspec": {
   "display_name": ".venv",
   "language": "python",
   "name": "python3"
  },
  "language_info": {
   "codemirror_mode": {
    "name": "ipython",
    "version": 3
   },
   "file_extension": ".py",
   "mimetype": "text/x-python",
   "name": "python",
   "nbconvert_exporter": "python",
   "pygments_lexer": "ipython3",
   "version": "3.12.8"
  }
 },
 "nbformat": 4,
 "nbformat_minor": 2
}
