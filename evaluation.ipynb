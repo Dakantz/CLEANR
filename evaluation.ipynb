{
 "cells": [
  {
   "cell_type": "code",
   "execution_count": 1,
   "metadata": {},
   "outputs": [],
   "source": [
    "%load_ext autoreload\n",
    "%autoreload 2"
   ]
  },
  {
   "cell_type": "code",
   "execution_count": 2,
   "metadata": {},
   "outputs": [],
   "source": [
    "from constrerl.evaluate import (\n",
    "    eval_submission_6_3_ternary_tag_RE,\n",
    "    eval_submission_6_4_ternary_mention_RE,\n",
    "    eval_submission_6_2_binary_tag_RE\n",
    ")\n",
    "from constrerl.erl_schema import convert_to_output, Article\n",
    "import glob\n",
    "from pathlib import Path\n",
    "import json\n",
    "import pandas as pd\n",
    "from collections.abc import Callable, Awaitable\n"
   ]
  },
  {
   "cell_type": "code",
   "execution_count": 3,
   "metadata": {},
   "outputs": [],
   "source": [
    "results_dir = \"data/results_dev\"\n",
    "ground_truth_file = \"data/annotations/dev/dev.json\"\n",
    "\n",
    "results_dir = Path(results_dir)\n",
    "ground_truth_file = Path(ground_truth_file)\n",
    "\n",
    "with open(ground_truth_file) as f:\n",
    "    ground_truth = json.load(f)"
   ]
  },
  {
   "cell_type": "code",
   "execution_count": 39,
   "metadata": {},
   "outputs": [
    {
     "name": "stdout",
     "output_type": "stream",
     "text": [
      "=== Removed 299 duplicated binary tag-based relations from predictions ===\n",
      "=== Removed 1082 duplicated binary tag-based relations from predictions ===\n",
      "=== Removed 327 duplicated binary tag-based relations from predictions ===\n",
      "=== Removed 1059 duplicated binary tag-based relations from predictions ===\n",
      "=== Removed 744 duplicated binary tag-based relations from predictions ===\n",
      "=== Removed 1105 duplicated binary tag-based relations from predictions ===\n",
      "=== Removed 70 duplicated binary tag-based relations from predictions ===\n",
      "=== Removed 447 duplicated binary tag-based relations from predictions ===\n",
      "=== Removed 7 duplicated binary tag-based relations from predictions ===\n",
      "=== Removed 225 duplicated binary tag-based relations from predictions ===\n",
      "=== Removed 269 duplicated binary tag-based relations from predictions ===\n",
      "=== Removed 1082 duplicated binary tag-based relations from predictions ===\n",
      "=== Removed 1403 duplicated binary tag-based relations from predictions ===\n",
      "=== Removed 630 duplicated binary tag-based relations from predictions ===\n",
      "=== Removed 89 duplicated binary tag-based relations from predictions ===\n",
      "=== Removed 1105 duplicated binary tag-based relations from predictions ===\n",
      "=== Removed 934 duplicated binary tag-based relations from predictions ===\n",
      "=== Removed 236 duplicated binary tag-based relations from predictions ===\n",
      "=== Removed 7 duplicated binary tag-based relations from predictions ===\n",
      "=== Removed 1403 duplicated binary tag-based relations from predictions ===\n",
      "=== Removed 297 duplicated ternary tag-based relations from predictions ===\n",
      "=== Removed 1082 duplicated ternary tag-based relations from predictions ===\n",
      "=== Removed 327 duplicated ternary tag-based relations from predictions ===\n",
      "=== Removed 1058 duplicated ternary tag-based relations from predictions ===\n",
      "=== Removed 744 duplicated ternary tag-based relations from predictions ===\n",
      "=== Removed 1105 duplicated ternary tag-based relations from predictions ===\n",
      "=== Removed 68 duplicated ternary tag-based relations from predictions ===\n",
      "=== Removed 447 duplicated ternary tag-based relations from predictions ===\n",
      "=== Removed 3 duplicated ternary tag-based relations from predictions ===\n",
      "=== Removed 216 duplicated ternary tag-based relations from predictions ===\n",
      "=== Removed 267 duplicated ternary tag-based relations from predictions ===\n",
      "=== Removed 1082 duplicated ternary tag-based relations from predictions ===\n",
      "=== Removed 1403 duplicated ternary tag-based relations from predictions ===\n",
      "=== Removed 627 duplicated ternary tag-based relations from predictions ===\n",
      "=== Removed 85 duplicated ternary tag-based relations from predictions ===\n",
      "=== Removed 1105 duplicated ternary tag-based relations from predictions ===\n",
      "=== Removed 934 duplicated ternary tag-based relations from predictions ===\n",
      "=== Removed 230 duplicated ternary tag-based relations from predictions ===\n",
      "=== Removed 1403 duplicated ternary tag-based relations from predictions ===\n",
      "=== Removed 1 duplicated ternary mention-based relations from predictions ===\n",
      "=== Removed 503 duplicated ternary mention-based relations from predictions ===\n",
      "=== Removed 159 duplicated ternary mention-based relations from predictions ===\n",
      "=== Removed 780 duplicated ternary mention-based relations from predictions ===\n",
      "=== Removed 380 duplicated ternary mention-based relations from predictions ===\n",
      "=== Removed 906 duplicated ternary mention-based relations from predictions ===\n",
      "=== Removed 17 duplicated ternary mention-based relations from predictions ===\n",
      "=== Removed 303 duplicated ternary mention-based relations from predictions ===\n",
      "=== Removed 3 duplicated ternary mention-based relations from predictions ===\n",
      "=== Removed 1 duplicated ternary mention-based relations from predictions ===\n",
      "=== Removed 503 duplicated ternary mention-based relations from predictions ===\n",
      "=== Removed 960 duplicated ternary mention-based relations from predictions ===\n",
      "=== Removed 335 duplicated ternary mention-based relations from predictions ===\n",
      "=== Removed 28 duplicated ternary mention-based relations from predictions ===\n",
      "=== Removed 906 duplicated ternary mention-based relations from predictions ===\n",
      "=== Removed 658 duplicated ternary mention-based relations from predictions ===\n",
      "=== Removed 960 duplicated ternary mention-based relations from predictions ===\n"
     ]
    },
    {
     "name": "stderr",
     "output_type": "stream",
     "text": [
      "<>:29: SyntaxWarning: invalid escape sequence '\\c'\n",
      "<>:30: SyntaxWarning: invalid escape sequence '\\c'\n",
      "<>:31: SyntaxWarning: invalid escape sequence '\\c'\n",
      "<>:29: SyntaxWarning: invalid escape sequence '\\c'\n",
      "<>:30: SyntaxWarning: invalid escape sequence '\\c'\n",
      "<>:31: SyntaxWarning: invalid escape sequence '\\c'\n",
      "/tmp/ipykernel_2200801/1998516482.py:29: SyntaxWarning: invalid escape sequence '\\c'\n",
      "  \"RAG\": \"\\checkmark\" if \"rag\" in result_file.name else \"$\\\\times$\",\n",
      "/tmp/ipykernel_2200801/1998516482.py:30: SyntaxWarning: invalid escape sequence '\\c'\n",
      "  \"LoRA\": \"\\checkmark\" if \"lora\" in result_file.name else \"$\\\\times$\",\n",
      "/tmp/ipykernel_2200801/1998516482.py:31: SyntaxWarning: invalid escape sequence '\\c'\n",
      "  \"Reorder\": \"\\checkmark\" if \"reorder\" in result_file.name else \"$\\\\times$\",\n"
     ]
    }
   ],
   "source": [
    "eval_results: list[dict] = []\n",
    "\n",
    "\n",
    "def scoring_to_dict(\n",
    "    f: str | Path, eval_f: Callable[[str | Path, dict], tuple[float]]\n",
    ") -> dict:\n",
    "    precision, recall, f1, micro_precision, micro_recall, micro_f1 = eval_f(\n",
    "        f, ground_truth\n",
    "    )\n",
    "    return {\n",
    "        \"$P$\": precision,\n",
    "        \"$R$\": recall,\n",
    "        \"$F_1$\": f1,\n",
    "        \"$P_{micro}$\": micro_precision,\n",
    "        \"$R_{micro}$\": micro_recall,\n",
    "        \"$F_{1,micro}$\": micro_f1,\n",
    "    }\n",
    "\n",
    "\n",
    "def scoring_to_df(eval_f: Callable[[str | Path, dict], tuple[float]]) -> pd.DataFrame:\n",
    "    eval_results: list[dict] = []\n",
    "    for result_file in results_dir.glob(\"*.json\"):\n",
    "        result_file = Path(result_file)\n",
    "        eval_result = scoring_to_dict(result_file, eval_f)\n",
    "        result_dict = {\n",
    "            \"Name\": \" \".join(result_file.name.rstrip(\".json\").split(\"-\")[:2])\n",
    "            if  \"openai\" not in result_file.name\n",
    "            else \" \".join(result_file.name.rstrip(\".json\").split(\"-\")[:3]),\n",
    "            \"RAG\": \"\\checkmark\" if \"rag\" in result_file.name else \"$\\\\times$\",\n",
    "            \"LoRA\": \"\\checkmark\" if \"lora\" in result_file.name else \"$\\\\times$\",\n",
    "            \"Reorder\": \"\\checkmark\" if \"reorder\" in result_file.name else \"$\\\\times$\",\n",
    "        }\n",
    "        result_dict.update(eval_result)\n",
    "        # result_dict.update({f\"6_2_2_{k}\": v for k, v in ternary_tag_score.items()})\n",
    "        # result_dict.update({f\"6_2_3_{k}\": v for k, v in ternary_mention_score.items()})\n",
    "        eval_results.append(result_dict)\n",
    "    eval_df = pd.DataFrame(eval_results)\n",
    "    if \"$F_{1,micro}$\" in eval_df.columns:\n",
    "        eval_df = eval_df.sort_values(\"$F_{1,micro}$\")\n",
    "    return eval_df\n",
    "\n",
    "\n",
    "task_6_2_1_df = scoring_to_df(eval_submission_6_2_binary_tag_RE)\n",
    "task_6_2_2_df = scoring_to_df(eval_submission_6_3_ternary_tag_RE)\n",
    "task_6_2_3_df = scoring_to_df(eval_submission_6_4_ternary_mention_RE)"
   ]
  },
  {
   "cell_type": "code",
   "execution_count": null,
   "metadata": {},
   "outputs": [],
   "source": [
    "task_6_2_1_df[:-10].to_latex(\n",
    "    \"report/task_6_2_1.tex\",\n",
    "    float_format=\"%.2f\",\n",
    "    caption=\"Dev Set Result for Task 6.2.1 for various models and approaches.\",\n",
    "    label=\"tab:task:6_2_1\",\n",
    "    index=False,\n",
    ")"
   ]
  },
  {
   "cell_type": "code",
   "execution_count": 41,
   "metadata": {},
   "outputs": [],
   "source": [
    "task_6_2_2_df.to_latex(\n",
    "    \"report/task_6_2_2.tex\",\n",
    "    float_format=\"%.2f\",\n",
    "    caption=\"Dev Set Result for Task 6.2.2 for various models and approaches.\",\n",
    "    label=\"tab:task:6_2_2\",\n",
    "    index=False,\n",
    ")"
   ]
  },
  {
   "cell_type": "code",
   "execution_count": 42,
   "metadata": {},
   "outputs": [],
   "source": [
    "task_6_2_3_df.to_latex(\n",
    "    \"report/task_6_2_3.tex\",\n",
    "    float_format=\"%.2f\",\n",
    "    caption=\"Dev Set Result for Task 6.2.3 for various models and approaches.\",\n",
    "    label=\"tab:task:6_2_3\",\n",
    "    index=False,\n",
    ")"
   ]
  },
  {
   "cell_type": "code",
   "execution_count": null,
   "metadata": {},
   "outputs": [],
   "source": []
  },
  {
   "cell_type": "code",
   "execution_count": null,
   "metadata": {},
   "outputs": [],
   "source": []
  }
 ],
 "metadata": {
  "kernelspec": {
   "display_name": ".venv",
   "language": "python",
   "name": "python3"
  },
  "language_info": {
   "codemirror_mode": {
    "name": "ipython",
    "version": 3
   },
   "file_extension": ".py",
   "mimetype": "text/x-python",
   "name": "python",
   "nbconvert_exporter": "python",
   "pygments_lexer": "ipython3",
   "version": "3.12.8"
  }
 },
 "nbformat": 4,
 "nbformat_minor": 2
}
