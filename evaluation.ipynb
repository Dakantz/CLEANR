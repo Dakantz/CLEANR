{
 "cells": [
  {
   "cell_type": "code",
   "execution_count": 2,
   "metadata": {},
   "outputs": [],
   "source": [
    "%load_ext autoreload\n",
    "%autoreload 2"
   ]
  },
  {
   "cell_type": "code",
   "execution_count": 3,
   "metadata": {},
   "outputs": [],
   "source": [
    "from constrerl.evaluate import (\n",
    "    eval_submission_6_3_ternary_tag_RE,\n",
    "    eval_submission_6_4_ternary_mention_RE,\n",
    "    eval_submission_6_2_binary_tag_RE\n",
    ")\n",
    "from constrerl.erl_schema import convert_to_output, Article\n",
    "import glob\n",
    "from pathlib import Path\n",
    "import json\n",
    "import pandas as pd\n",
    "from collections.abc import Callable, Awaitable\n"
   ]
  },
  {
   "cell_type": "code",
   "execution_count": 9,
   "metadata": {},
   "outputs": [],
   "source": [
    "results_dir = \"data/results_dev\"\n",
    "ground_truth_file = \"data/annotations/dev/dev.json\"\n",
    "\n",
    "results_dir = Path(results_dir)\n",
    "ground_truth_file = Path(ground_truth_file)\n",
    "\n",
    "with open(ground_truth_file) as f:\n",
    "    ground_truth = json.load(f)"
   ]
  },
  {
   "cell_type": "code",
   "execution_count": 10,
   "metadata": {},
   "outputs": [
    {
     "name": "stdout",
     "output_type": "stream",
     "text": [
      "=== Removed 299 duplicated binary tag-based relations from predictions ===\n",
      "=== Removed 1082 duplicated binary tag-based relations from predictions ===\n",
      "=== Removed 327 duplicated binary tag-based relations from predictions ===\n",
      "=== Removed 1059 duplicated binary tag-based relations from predictions ===\n",
      "=== Removed 744 duplicated binary tag-based relations from predictions ===\n",
      "=== Removed 1105 duplicated binary tag-based relations from predictions ===\n",
      "=== Removed 70 duplicated binary tag-based relations from predictions ===\n",
      "=== Removed 447 duplicated binary tag-based relations from predictions ===\n",
      "=== Removed 7 duplicated binary tag-based relations from predictions ===\n",
      "=== Removed 225 duplicated binary tag-based relations from predictions ===\n",
      "=== Removed 269 duplicated binary tag-based relations from predictions ===\n",
      "=== Removed 1082 duplicated binary tag-based relations from predictions ===\n",
      "=== Removed 1403 duplicated binary tag-based relations from predictions ===\n",
      "=== Removed 630 duplicated binary tag-based relations from predictions ===\n",
      "=== Removed 89 duplicated binary tag-based relations from predictions ===\n",
      "=== Removed 1105 duplicated binary tag-based relations from predictions ===\n",
      "=== Removed 934 duplicated binary tag-based relations from predictions ===\n",
      "=== Removed 236 duplicated binary tag-based relations from predictions ===\n",
      "=== Removed 7 duplicated binary tag-based relations from predictions ===\n",
      "=== Removed 1403 duplicated binary tag-based relations from predictions ===\n",
      "=== Removed 297 duplicated ternary tag-based relations from predictions ===\n",
      "=== Removed 1082 duplicated ternary tag-based relations from predictions ===\n",
      "=== Removed 327 duplicated ternary tag-based relations from predictions ===\n",
      "=== Removed 1058 duplicated ternary tag-based relations from predictions ===\n",
      "=== Removed 744 duplicated ternary tag-based relations from predictions ===\n",
      "=== Removed 1105 duplicated ternary tag-based relations from predictions ===\n",
      "=== Removed 68 duplicated ternary tag-based relations from predictions ===\n",
      "=== Removed 447 duplicated ternary tag-based relations from predictions ===\n",
      "=== Removed 3 duplicated ternary tag-based relations from predictions ===\n",
      "=== Removed 216 duplicated ternary tag-based relations from predictions ===\n",
      "=== Removed 267 duplicated ternary tag-based relations from predictions ===\n",
      "=== Removed 1082 duplicated ternary tag-based relations from predictions ===\n",
      "=== Removed 1403 duplicated ternary tag-based relations from predictions ===\n",
      "=== Removed 627 duplicated ternary tag-based relations from predictions ===\n",
      "=== Removed 85 duplicated ternary tag-based relations from predictions ===\n",
      "=== Removed 1105 duplicated ternary tag-based relations from predictions ===\n",
      "=== Removed 934 duplicated ternary tag-based relations from predictions ===\n",
      "=== Removed 230 duplicated ternary tag-based relations from predictions ===\n",
      "=== Removed 1403 duplicated ternary tag-based relations from predictions ===\n",
      "=== Removed 1 duplicated ternary mention-based relations from predictions ===\n",
      "=== Removed 503 duplicated ternary mention-based relations from predictions ===\n",
      "=== Removed 159 duplicated ternary mention-based relations from predictions ===\n",
      "=== Removed 780 duplicated ternary mention-based relations from predictions ===\n",
      "=== Removed 380 duplicated ternary mention-based relations from predictions ===\n",
      "=== Removed 906 duplicated ternary mention-based relations from predictions ===\n",
      "=== Removed 17 duplicated ternary mention-based relations from predictions ===\n",
      "=== Removed 303 duplicated ternary mention-based relations from predictions ===\n",
      "=== Removed 3 duplicated ternary mention-based relations from predictions ===\n",
      "=== Removed 1 duplicated ternary mention-based relations from predictions ===\n",
      "=== Removed 503 duplicated ternary mention-based relations from predictions ===\n",
      "=== Removed 960 duplicated ternary mention-based relations from predictions ===\n",
      "=== Removed 335 duplicated ternary mention-based relations from predictions ===\n",
      "=== Removed 28 duplicated ternary mention-based relations from predictions ===\n",
      "=== Removed 906 duplicated ternary mention-based relations from predictions ===\n",
      "=== Removed 658 duplicated ternary mention-based relations from predictions ===\n",
      "=== Removed 960 duplicated ternary mention-based relations from predictions ===\n"
     ]
    }
   ],
   "source": [
    "eval_results: list[dict] = []\n",
    "\n",
    "\n",
    "def scoring_to_dict(\n",
    "    f: str | Path, eval_f: Callable[[str | Path, dict], tuple[float]]\n",
    ") -> dict:\n",
    "    precision, recall, f1, micro_precision, micro_recall, micro_f1 = eval_f(\n",
    "        f, ground_truth\n",
    "    )\n",
    "    return {\n",
    "        \"precision\": precision,\n",
    "        \"recall\": recall,\n",
    "        \"f1\": f1,\n",
    "        \"micro_precision\": micro_precision,\n",
    "        \"micro_recall\": micro_recall,\n",
    "        \"micro_f1\": micro_f1,\n",
    "    }\n",
    "\n",
    "def scoring_to_df(eval_f: Callable[[str | Path, dict], tuple[float]]) -> pd.DataFrame:\n",
    "    eval_results: list[dict] = []\n",
    "    for result_file in results_dir.glob(\"*.json\"):\n",
    "        result_file = Path(result_file)\n",
    "        eval_result = scoring_to_dict(result_file, eval_f)\n",
    "        result_dict = {\n",
    "            \"file\": result_file.name,\n",
    "            \"rag\": \"rag\" in result_file.name,\n",
    "            \"reorder\": \"reorder\" in result_file.name,\n",
    "        }\n",
    "        result_dict.update(eval_result)\n",
    "        # result_dict.update({f\"6_2_2_{k}\": v for k, v in ternary_tag_score.items()})\n",
    "        # result_dict.update({f\"6_2_3_{k}\": v for k, v in ternary_mention_score.items()})\n",
    "        eval_results.append(result_dict)\n",
    "    eval_df = pd.DataFrame(eval_results)\n",
    "    if \"micro_f1\" in eval_df.columns:\n",
    "        eval_df = eval_df.sort_values(\"micro_f1\")\n",
    "    return eval_df\n",
    "\n",
    "task_6_2_1_df = scoring_to_df(eval_submission_6_2_binary_tag_RE)\n",
    "task_6_2_2_df = scoring_to_df(eval_submission_6_3_ternary_tag_RE)\n",
    "task_6_2_3_df = scoring_to_df(eval_submission_6_4_ternary_mention_RE)"
   ]
  },
  {
   "cell_type": "code",
   "execution_count": 19,
   "metadata": {},
   "outputs": [],
   "source": [
    "task_6_2_1_df[-2:].to_excel(\n",
    "    \"report/task_6_2_1.xlsx\", index=False\n",
    ")"
   ]
  },
  {
   "cell_type": "code",
   "execution_count": 20,
   "metadata": {},
   "outputs": [],
   "source": [
    "task_6_2_2_df[-2:].to_excel(\n",
    "    \"report/task_6_2_2.xlsx\", index=False\n",
    ")"
   ]
  },
  {
   "cell_type": "code",
   "execution_count": 21,
   "metadata": {},
   "outputs": [],
   "source": [
    "task_6_2_3_df[-2:].to_excel(\n",
    "    \"report/task_6_2_3.xlsx\", index=False\n",
    ")"
   ]
  },
  {
   "cell_type": "code",
   "execution_count": null,
   "metadata": {},
   "outputs": [],
   "source": []
  },
  {
   "cell_type": "code",
   "execution_count": null,
   "metadata": {},
   "outputs": [],
   "source": []
  }
 ],
 "metadata": {
  "kernelspec": {
   "display_name": ".venv",
   "language": "python",
   "name": "python3"
  },
  "language_info": {
   "codemirror_mode": {
    "name": "ipython",
    "version": 3
   },
   "file_extension": ".py",
   "mimetype": "text/x-python",
   "name": "python",
   "nbconvert_exporter": "python",
   "pygments_lexer": "ipython3",
   "version": "3.12.8"
  }
 },
 "nbformat": 4,
 "nbformat_minor": 2
}
