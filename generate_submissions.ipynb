{
 "cells": [
  {
   "cell_type": "code",
   "execution_count": 1,
   "id": "87197d27",
   "metadata": {},
   "outputs": [],
   "source": [
    "import shutil\n",
    "import os"
   ]
  },
  {
   "cell_type": "code",
   "execution_count": null,
   "id": "54fc3788",
   "metadata": {},
   "outputs": [],
   "source": [
    "from zipfile import ZipFile\n",
    "from pathlib import Path\n",
    "import glob\n",
    "import json\n"
   ]
  },
  {
   "cell_type": "code",
   "execution_count": null,
   "id": "cf0c3f18",
   "metadata": {},
   "outputs": [],
   "source": [
    "results_path = \"data/results_test/*.json\"\n",
    "results = glob.glob(results_path)\n",
    "results = [Path(p) for p in results]"
   ]
  },
  {
   "cell_type": "code",
   "execution_count": 4,
   "id": "6824bc73",
   "metadata": {},
   "outputs": [
    {
     "data": {
      "text/plain": [
       "[PosixPath('data/merge_dev/openai-4-1_union.json'),\n",
       " PosixPath('data/merge_dev/hermes-3b_intersection.json'),\n",
       " PosixPath('data/merge_dev/hermes-3b-rag_union.json'),\n",
       " PosixPath('data/merge_dev/hermes-3b-lora-rag_intersection.json'),\n",
       " PosixPath('data/merge_dev/hermes-3b-lora-reorder_union.json'),\n",
       " PosixPath('data/merge_dev/hermes-3b-lora_union.json'),\n",
       " PosixPath('data/merge_dev/hermes-3b-rag_intersection.json'),\n",
       " PosixPath('data/merge_dev/hermes-3b-lora_intersection.json'),\n",
       " PosixPath('data/merge_dev/openai-4-1-reorder_union.json'),\n",
       " PosixPath('data/merge_dev/openai-4o-mini_intersection.json'),\n",
       " PosixPath('data/merge_dev/openai-4o-mini-reorder_union.json'),\n",
       " PosixPath('data/merge_dev/hermes-3b_union.json'),\n",
       " PosixPath('data/merge_dev/openai-4-1-reorder_intersection.json'),\n",
       " PosixPath('data/merge_dev/hermes-3b-lora-rag_union.json'),\n",
       " PosixPath('data/merge_dev/hermes-8b-rag-reorder_union.json'),\n",
       " PosixPath('data/merge_dev/openai-4-1-rag_union.json'),\n",
       " PosixPath('data/merge_dev/hermes-8b-rag-reorder_intersection.json'),\n",
       " PosixPath('data/merge_dev/hermes-8b_intersection.json'),\n",
       " PosixPath('data/merge_dev/openai-4-1-rag-reorder_intersection.json'),\n",
       " PosixPath('data/merge_dev/hermes-3b-rag-reorder_intersection.json'),\n",
       " PosixPath('data/merge_dev/hermes-8b_union.json'),\n",
       " PosixPath('data/merge_dev/openai-4o-mini-rag_union.json'),\n",
       " PosixPath('data/merge_dev/openai-4o-mini-rag_intersection.json'),\n",
       " PosixPath('data/merge_dev/openai-4o-mini-rag-reorder_union.json'),\n",
       " PosixPath('data/merge_dev/hermes-3b-lora-reorder_intersection.json'),\n",
       " PosixPath('data/merge_dev/openai-4o-mini-reorder_intersection.json'),\n",
       " PosixPath('data/merge_dev/hermes-3b-rag-reorder_union.json'),\n",
       " PosixPath('data/merge_dev/openai-4o-mini-rag-reorder_intersection.json'),\n",
       " PosixPath('data/merge_dev/hermes-3b-lora-rag-reorder_intersection.json'),\n",
       " PosixPath('data/merge_dev/openai-4-1-rag_intersection.json'),\n",
       " PosixPath('data/merge_dev/hermes-8b-reorder_union.json'),\n",
       " PosixPath('data/merge_dev/hermes-3b-reorder_intersection.json'),\n",
       " PosixPath('data/merge_dev/hermes-8b-reorder_intersection.json'),\n",
       " PosixPath('data/merge_dev/hermes-8b-rag_union.json'),\n",
       " PosixPath('data/merge_dev/hermes-3b-lora-rag-reorder_union.json'),\n",
       " PosixPath('data/merge_dev/hermes-3b-reorder_union.json'),\n",
       " PosixPath('data/merge_dev/openai-4o-mini_union.json'),\n",
       " PosixPath('data/merge_dev/hermes-8b-rag_intersection.json'),\n",
       " PosixPath('data/merge_dev/openai-4-1_intersection.json'),\n",
       " PosixPath('data/merge_dev/openai-4-1-rag-reorder_union.json')]"
      ]
     },
     "execution_count": 4,
     "metadata": {},
     "output_type": "execute_result"
    }
   ],
   "source": [
    "results"
   ]
  },
  {
   "cell_type": "code",
   "execution_count": 5,
   "id": "542aa7df",
   "metadata": {},
   "outputs": [
    {
     "data": {
      "text/plain": [
       "['openai-4-1_union',\n",
       " 'hermes-3b_intersection',\n",
       " 'hermes-3b-rag_union',\n",
       " 'hermes-3b-lora-rag_intersection',\n",
       " 'hermes-3b-lora-reorder_union',\n",
       " 'hermes-3b-lora_union',\n",
       " 'hermes-3b-rag_intersection',\n",
       " 'hermes-3b-lora_intersection',\n",
       " 'openai-4-1-reorder_union',\n",
       " 'openai-4o-mini_intersection',\n",
       " 'openai-4o-mini-reorder_union',\n",
       " 'hermes-3b_union',\n",
       " 'openai-4-1-reorder_intersection',\n",
       " 'hermes-3b-lora-rag_union',\n",
       " 'hermes-8b-rag-reorder_union',\n",
       " 'openai-4-1-rag_union',\n",
       " 'hermes-8b-rag-reorder_intersection',\n",
       " 'hermes-8b_intersection',\n",
       " 'openai-4-1-rag-reorder_intersection',\n",
       " 'hermes-3b-rag-reorder_intersection',\n",
       " 'hermes-8b_union',\n",
       " 'openai-4o-mini-rag_union',\n",
       " 'openai-4o-mini-rag_intersection',\n",
       " 'openai-4o-mini-rag-reorder_union',\n",
       " 'hermes-3b-lora-reorder_intersection',\n",
       " 'openai-4o-mini-reorder_intersection',\n",
       " 'hermes-3b-rag-reorder_union',\n",
       " 'openai-4o-mini-rag-reorder_intersection',\n",
       " 'hermes-3b-lora-rag-reorder_intersection',\n",
       " 'openai-4-1-rag_intersection',\n",
       " 'hermes-8b-reorder_union',\n",
       " 'hermes-3b-reorder_intersection',\n",
       " 'hermes-8b-reorder_intersection',\n",
       " 'hermes-8b-rag_union',\n",
       " 'hermes-3b-lora-rag-reorder_union',\n",
       " 'hermes-3b-reorder_union',\n",
       " 'openai-4o-mini_union',\n",
       " 'hermes-8b-rag_intersection',\n",
       " 'openai-4-1_intersection',\n",
       " 'openai-4-1-rag-reorder_union']"
      ]
     },
     "execution_count": 5,
     "metadata": {},
     "output_type": "execute_result"
    }
   ],
   "source": [
    "task_ids = {\n",
    "    \"T621\": \"binary_tag_based_relations\",\n",
    "    \"T622\": \"ternary_tag_based_relations\",\n",
    "    \"T623\": \"ternary_mention_based_relations\",\n",
    "}\n",
    "run_ids = [str(p.name).split(\".\")[0] for p in results]\n",
    "system_id = \"CLEANR\"\n",
    "team_id = \"ToGS\"\n",
    "run_ids"
   ]
  },
  {
   "cell_type": "code",
   "execution_count": 6,
   "id": "2a6c56be",
   "metadata": {},
   "outputs": [],
   "source": [
    "import chevron\n",
    "import json"
   ]
  },
  {
   "cell_type": "code",
   "execution_count": null,
   "id": "07278b82",
   "metadata": {},
   "outputs": [],
   "source": [
    "staging_dir = Path(\"./staging\")\n",
    "for task_id, task_key in task_ids.items():\n",
    "    for run_id, result_path in zip(run_ids, results):\n",
    "        run_id_simples = run_id.replace(\"-\", \"\")\n",
    "\n",
    "        identifier = f\"{team_id}_{task_id}_{run_id_simples}_{system_id}\"\n",
    "        identifier_dir = staging_dir / identifier\n",
    "        if not identifier_dir.exists():\n",
    "            os.mkdir(identifier_dir)\n",
    "        desc_data = \"\"\n",
    "        with open(\"description.md\", \"r\") as f:\n",
    "            desc_data = f.read(-1)\n",
    "        flags = []\n",
    "        if \"rag\" in run_id:\n",
    "            flags.append(\"RAG\")\n",
    "        if \"reorder\" in run_id:\n",
    "            flags.append(\"Reordered\")\n",
    "        if \"lora\" in run_id:\n",
    "            flags.append(\"Finetuned using LoRA\")\n",
    "        rendered_desc = chevron.render(\n",
    "            desc_data,\n",
    "            {\n",
    "                \"task_id\": task_id,\n",
    "                \"run_id\": run_id,\n",
    "                \"system_id\": system_id,\n",
    "                \"team_id\": team_id,\n",
    "                \"flags\": flags,\n",
    "            },\n",
    "        )\n",
    "        desc_file = identifier_dir / f\"{identifier}.meta\"\n",
    "        out_file = identifier_dir / f\"{identifier}.json\"\n",
    "        with open(desc_file, \"w\") as f:\n",
    "            f.write(rendered_desc)\n",
    "        run_data: dict[str, dict[str, any]] = None\n",
    "        with open(result_path, \"r\") as rf:\n",
    "            run_data = json.load(rf)\n",
    "        stratified_res = {}\n",
    "        for k, res in run_data.items():\n",
    "            stratified_res[k] = {task_key: res[task_key]}\n",
    "        with open(out_file, \"w\") as rf:\n",
    "            json.dump(stratified_res, rf)\n",
    "\n",
    "        # zip_path = staging_dir / f\"{identifier}.zip\"\n",
    "        # zf = ZipFile(zip_path, \"w\")\n",
    "        # zf.write(desc_file, f\"{identifier}.md\")\n",
    "        # zf.write(out_file, f\"{identifier}.json\")"
   ]
  },
  {
   "cell_type": "code",
   "execution_count": 8,
   "id": "5cb0833e",
   "metadata": {},
   "outputs": [
    {
     "data": {
      "text/plain": [
       "'# GutBrain IE Challenge @ CLEF 2025: CLEANR\\n\\n`Benedikt Kantz, Peter Walder, Stefan Lengauer, Tobias Schreck`\\n* Team ID: ToGS\\n* TaskID: T623\\n* RunID: openai-4-1-rag-reorder_union\\n* Run Flags\\n  - RAG\\n  - Reordered\\n* GitHub: https://github.com/Dakantz/CLEANR\\n## Our appraoch\\n* Use a RAG approach to prompt a LM to return the relations\\n  - fetch similar articles from VectorDB to give good examples (if the run ID contains `rag`)\\n  - reorder the RAG data to improve the handling of the model, i.e. put Gold annotations before Silver (if the run ID contains `reorder`)\\n  - finetune the Hermes model on the train data combinations, with text+annotation pairs (if the run ID contains `lora`)\\n* We also use different models:\\n  - `NousResearch/Hermes-3-Llama-3.2-3B` + a finetuned LoRA-version\\n  - `NousResearch/Hermes-3-Llama-3.1-8B`\\n  - `gpt-4o-mini-2024-07-18`\\n\\n\\n'"
      ]
     },
     "execution_count": 8,
     "metadata": {},
     "output_type": "execute_result"
    }
   ],
   "source": [
    "rendered_desc"
   ]
  }
 ],
 "metadata": {
  "kernelspec": {
   "display_name": ".venv",
   "language": "python",
   "name": "python3"
  },
  "language_info": {
   "codemirror_mode": {
    "name": "ipython",
    "version": 3
   },
   "file_extension": ".py",
   "mimetype": "text/x-python",
   "name": "python",
   "nbconvert_exporter": "python",
   "pygments_lexer": "ipython3",
   "version": "3.12.8"
  }
 },
 "nbformat": 4,
 "nbformat_minor": 5
}
