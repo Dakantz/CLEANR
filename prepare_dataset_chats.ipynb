{
 "cells": [
  {
   "cell_type": "code",
   "execution_count": 1,
   "metadata": {},
   "outputs": [],
   "source": [
    "%load_ext autoreload\n",
    "%autoreload 2"
   ]
  },
  {
   "cell_type": "code",
   "execution_count": 2,
   "metadata": {},
   "outputs": [
    {
     "ename": "RuntimeError",
     "evalue": "Failed to load shared library '/home/kanben/cgv/hereditary/gutbrainie-clef/.venv/lib/python3.12/site-packages/llama_cpp/lib/libllama.so': libcudart.so.12: cannot open shared object file: No such file or directory",
     "output_type": "error",
     "traceback": [
      "\u001b[0;31m---------------------------------------------------------------------------\u001b[0m",
      "\u001b[0;31mOSError\u001b[0m                                   Traceback (most recent call last)",
      "File \u001b[0;32m~/cgv/hereditary/gutbrainie-clef/.venv/lib/python3.12/site-packages/llama_cpp/_ctypes_extensions.py:67\u001b[0m, in \u001b[0;36mload_shared_library\u001b[0;34m(lib_base_name, base_path)\u001b[0m\n\u001b[1;32m     66\u001b[0m \u001b[38;5;28;01mtry\u001b[39;00m:\n\u001b[0;32m---> 67\u001b[0m     \u001b[38;5;28;01mreturn\u001b[39;00m \u001b[43mctypes\u001b[49m\u001b[38;5;241;43m.\u001b[39;49m\u001b[43mCDLL\u001b[49m\u001b[43m(\u001b[49m\u001b[38;5;28;43mstr\u001b[39;49m\u001b[43m(\u001b[49m\u001b[43mlib_path\u001b[49m\u001b[43m)\u001b[49m\u001b[43m,\u001b[49m\u001b[43m \u001b[49m\u001b[38;5;241;43m*\u001b[39;49m\u001b[38;5;241;43m*\u001b[39;49m\u001b[43mcdll_args\u001b[49m\u001b[43m)\u001b[49m  \u001b[38;5;66;03m# type: ignore\u001b[39;00m\n\u001b[1;32m     68\u001b[0m \u001b[38;5;28;01mexcept\u001b[39;00m \u001b[38;5;167;01mException\u001b[39;00m \u001b[38;5;28;01mas\u001b[39;00m e:\n",
      "File \u001b[0;32m~/.local/share/uv/python/cpython-3.12.9-linux-x86_64-gnu/lib/python3.12/ctypes/__init__.py:379\u001b[0m, in \u001b[0;36mCDLL.__init__\u001b[0;34m(self, name, mode, handle, use_errno, use_last_error, winmode)\u001b[0m\n\u001b[1;32m    378\u001b[0m \u001b[38;5;28;01mif\u001b[39;00m handle \u001b[38;5;129;01mis\u001b[39;00m \u001b[38;5;28;01mNone\u001b[39;00m:\n\u001b[0;32m--> 379\u001b[0m     \u001b[38;5;28mself\u001b[39m\u001b[38;5;241m.\u001b[39m_handle \u001b[38;5;241m=\u001b[39m \u001b[43m_dlopen\u001b[49m\u001b[43m(\u001b[49m\u001b[38;5;28;43mself\u001b[39;49m\u001b[38;5;241;43m.\u001b[39;49m\u001b[43m_name\u001b[49m\u001b[43m,\u001b[49m\u001b[43m \u001b[49m\u001b[43mmode\u001b[49m\u001b[43m)\u001b[49m\n\u001b[1;32m    380\u001b[0m \u001b[38;5;28;01melse\u001b[39;00m:\n",
      "\u001b[0;31mOSError\u001b[0m: libcudart.so.12: cannot open shared object file: No such file or directory",
      "\nDuring handling of the above exception, another exception occurred:\n",
      "\u001b[0;31mRuntimeError\u001b[0m                              Traceback (most recent call last)",
      "Cell \u001b[0;32mIn[2], line 1\u001b[0m\n\u001b[0;32m----> 1\u001b[0m \u001b[38;5;28;01mfrom\u001b[39;00m\u001b[38;5;250m \u001b[39m\u001b[38;5;21;01mconstrerl\u001b[39;00m\u001b[38;5;21;01m.\u001b[39;00m\u001b[38;5;21;01mannotator\u001b[39;00m\u001b[38;5;250m \u001b[39m\u001b[38;5;28;01mimport\u001b[39;00m (\n\u001b[1;32m      2\u001b[0m     Annotator,\n\u001b[1;32m      3\u001b[0m     EnumERLModel,\n\u001b[1;32m      4\u001b[0m     StringERLModel,\n\u001b[1;32m      5\u001b[0m     convert_to_enum_model,\n\u001b[1;32m      6\u001b[0m     convert_to_string_model,\n\u001b[1;32m      7\u001b[0m     load_test,\n\u001b[1;32m      8\u001b[0m     load_train,\n\u001b[1;32m      9\u001b[0m     Article\n\u001b[1;32m     10\u001b[0m )\n\u001b[1;32m     11\u001b[0m \u001b[38;5;28;01mimport\u001b[39;00m\u001b[38;5;250m \u001b[39m\u001b[38;5;21;01mjson\u001b[39;00m\n",
      "File \u001b[0;32m~/cgv/hereditary/gutbrainie-clef/constrerl/annotator.py:1\u001b[0m\n\u001b[0;32m----> 1\u001b[0m \u001b[38;5;28;01mfrom\u001b[39;00m\u001b[38;5;250m \u001b[39m\u001b[38;5;21;01m.\u001b[39;00m\u001b[38;5;21;01merl_schema\u001b[39;00m\u001b[38;5;250m \u001b[39m\u001b[38;5;28;01mimport\u001b[39;00m (\n\u001b[1;32m      2\u001b[0m     build_grammar,\n\u001b[1;32m      3\u001b[0m     build_model,\n\u001b[1;32m      4\u001b[0m     EnumERLModel,\n\u001b[1;32m      5\u001b[0m     StringERLModel,\n\u001b[1;32m      6\u001b[0m     ExtendedStringERLModel,\n\u001b[1;32m      7\u001b[0m     ExtendedEnumERLModel,\n\u001b[1;32m      8\u001b[0m     convert_to_enum_model,\n\u001b[1;32m      9\u001b[0m     convert_to_string_model,\n\u001b[1;32m     10\u001b[0m )\n\u001b[1;32m     11\u001b[0m \u001b[38;5;28;01mfrom\u001b[39;00m\u001b[38;5;250m \u001b[39m\u001b[38;5;21;01m.\u001b[39;00m\u001b[38;5;21;01mannotations_schema\u001b[39;00m\u001b[38;5;250m \u001b[39m\u001b[38;5;28;01mimport\u001b[39;00m (\n\u001b[1;32m     12\u001b[0m     Metadata,\n\u001b[1;32m     13\u001b[0m     Entity,\n\u001b[0;32m   (...)\u001b[0m\n\u001b[1;32m     18\u001b[0m     Article,\n\u001b[1;32m     19\u001b[0m )\n\u001b[1;32m     20\u001b[0m \u001b[38;5;28;01mfrom\u001b[39;00m\u001b[38;5;250m \u001b[39m\u001b[38;5;21;01mllama_cpp\u001b[39;00m\u001b[38;5;250m \u001b[39m\u001b[38;5;28;01mimport\u001b[39;00m Llama, ChatCompletionRequestMessage, LlamaGrammar\n",
      "File \u001b[0;32m~/cgv/hereditary/gutbrainie-clef/constrerl/erl_schema.py:6\u001b[0m\n\u001b[1;32m      4\u001b[0m \u001b[38;5;28;01mfrom\u001b[39;00m\u001b[38;5;250m \u001b[39m\u001b[38;5;21;01mtyping\u001b[39;00m\u001b[38;5;250m \u001b[39m\u001b[38;5;28;01mimport\u001b[39;00m List, Tuple, Union, Annotated, Literal\n\u001b[1;32m      5\u001b[0m \u001b[38;5;28;01mfrom\u001b[39;00m\u001b[38;5;250m \u001b[39m\u001b[38;5;21;01menum\u001b[39;00m\u001b[38;5;250m \u001b[39m\u001b[38;5;28;01mimport\u001b[39;00m Enum\n\u001b[0;32m----> 6\u001b[0m \u001b[38;5;28;01mfrom\u001b[39;00m\u001b[38;5;250m \u001b[39m\u001b[38;5;21;01mllama_cpp_agent\u001b[39;00m\u001b[38;5;21;01m.\u001b[39;00m\u001b[38;5;21;01mgbnf_grammar_generator\u001b[39;00m\u001b[38;5;21;01m.\u001b[39;00m\u001b[38;5;21;01mgbnf_grammar_from_pydantic_models\u001b[39;00m\u001b[38;5;250m \u001b[39m\u001b[38;5;28;01mimport\u001b[39;00m (\n\u001b[1;32m      7\u001b[0m     generate_gbnf_grammar_from_pydantic_models,\n\u001b[1;32m      8\u001b[0m )\n\u001b[1;32m     11\u001b[0m entity_labels \u001b[38;5;241m=\u001b[39m [\n\u001b[1;32m     12\u001b[0m     {\n\u001b[1;32m     13\u001b[0m         \u001b[38;5;124m\"\u001b[39m\u001b[38;5;124mlabel\u001b[39m\u001b[38;5;124m\"\u001b[39m: \u001b[38;5;124m\"\u001b[39m\u001b[38;5;124mAnatomical Location\u001b[39m\u001b[38;5;124m\"\u001b[39m,\n\u001b[0;32m   (...)\u001b[0m\n\u001b[1;32m     76\u001b[0m     },\n\u001b[1;32m     77\u001b[0m ]\n\u001b[1;32m     79\u001b[0m relations \u001b[38;5;241m=\u001b[39m [\n\u001b[1;32m     80\u001b[0m     {\n\u001b[1;32m     81\u001b[0m         \u001b[38;5;124m\"\u001b[39m\u001b[38;5;124mheads\u001b[39m\u001b[38;5;124m\"\u001b[39m: [\u001b[38;5;124m\"\u001b[39m\u001b[38;5;124mAnatomical Location\u001b[39m\u001b[38;5;124m\"\u001b[39m],\n\u001b[0;32m   (...)\u001b[0m\n\u001b[1;32m    167\u001b[0m     },\n\u001b[1;32m    168\u001b[0m ]\n",
      "File \u001b[0;32m~/cgv/hereditary/gutbrainie-clef/.venv/lib/python3.12/site-packages/llama_cpp_agent/__init__.py:1\u001b[0m\n\u001b[0;32m----> 1\u001b[0m \u001b[38;5;28;01mfrom\u001b[39;00m\u001b[38;5;250m \u001b[39m\u001b[38;5;21;01m.\u001b[39;00m\u001b[38;5;21;01mllm_agent\u001b[39;00m\u001b[38;5;250m \u001b[39m\u001b[38;5;28;01mimport\u001b[39;00m LlamaCppAgent\n\u001b[1;32m      2\u001b[0m \u001b[38;5;28;01mfrom\u001b[39;00m\u001b[38;5;250m \u001b[39m\u001b[38;5;21;01m.\u001b[39;00m\u001b[38;5;21;01mchain\u001b[39;00m\u001b[38;5;250m \u001b[39m\u001b[38;5;28;01mimport\u001b[39;00m AgentChain, MapChain, AgentChainElement\n\u001b[1;32m      3\u001b[0m \u001b[38;5;28;01mfrom\u001b[39;00m\u001b[38;5;250m \u001b[39m\u001b[38;5;21;01m.\u001b[39;00m\u001b[38;5;21;01mfunction_calling\u001b[39;00m\u001b[38;5;250m \u001b[39m\u001b[38;5;28;01mimport\u001b[39;00m LlamaCppFunctionTool\n",
      "File \u001b[0;32m~/cgv/hereditary/gutbrainie-clef/.venv/lib/python3.12/site-packages/llama_cpp_agent/llm_agent.py:8\u001b[0m\n\u001b[1;32m      4\u001b[0m \u001b[38;5;28;01mfrom\u001b[39;00m\u001b[38;5;250m \u001b[39m\u001b[38;5;21;01mtyping\u001b[39;00m\u001b[38;5;250m \u001b[39m\u001b[38;5;28;01mimport\u001b[39;00m List, Literal, Callable, Union, Generator, Any\n\u001b[1;32m      6\u001b[0m \u001b[38;5;28;01mfrom\u001b[39;00m\u001b[38;5;250m \u001b[39m\u001b[38;5;21;01mpydantic\u001b[39;00m\u001b[38;5;250m \u001b[39m\u001b[38;5;28;01mimport\u001b[39;00m BaseModel\n\u001b[0;32m----> 8\u001b[0m \u001b[38;5;28;01mfrom\u001b[39;00m\u001b[38;5;250m \u001b[39m\u001b[38;5;21;01m.\u001b[39;00m\u001b[38;5;21;01mchat_history\u001b[39;00m\u001b[38;5;21;01m.\u001b[39;00m\u001b[38;5;21;01mbasic_chat_history\u001b[39;00m\u001b[38;5;250m \u001b[39m\u001b[38;5;28;01mimport\u001b[39;00m BasicChatHistory\n\u001b[1;32m      9\u001b[0m \u001b[38;5;28;01mfrom\u001b[39;00m\u001b[38;5;250m \u001b[39m\u001b[38;5;21;01m.\u001b[39;00m\u001b[38;5;21;01mchat_history\u001b[39;00m\u001b[38;5;21;01m.\u001b[39;00m\u001b[38;5;21;01mchat_history_base\u001b[39;00m\u001b[38;5;250m \u001b[39m\u001b[38;5;28;01mimport\u001b[39;00m ChatHistory\n\u001b[1;32m     10\u001b[0m \u001b[38;5;28;01mfrom\u001b[39;00m\u001b[38;5;250m \u001b[39m\u001b[38;5;21;01m.\u001b[39;00m\u001b[38;5;21;01mchat_history\u001b[39;00m\u001b[38;5;21;01m.\u001b[39;00m\u001b[38;5;21;01mmessages\u001b[39;00m\u001b[38;5;250m \u001b[39m\u001b[38;5;28;01mimport\u001b[39;00m Roles\n",
      "File \u001b[0;32m~/cgv/hereditary/gutbrainie-clef/.venv/lib/python3.12/site-packages/llama_cpp_agent/chat_history/__init__.py:2\u001b[0m\n\u001b[1;32m      1\u001b[0m \u001b[38;5;28;01mfrom\u001b[39;00m\u001b[38;5;250m \u001b[39m\u001b[38;5;21;01m.\u001b[39;00m\u001b[38;5;21;01mchat_history_base\u001b[39;00m\u001b[38;5;250m \u001b[39m\u001b[38;5;28;01mimport\u001b[39;00m ChatHistory, ChatMessageStore\n\u001b[0;32m----> 2\u001b[0m \u001b[38;5;28;01mfrom\u001b[39;00m\u001b[38;5;250m \u001b[39m\u001b[38;5;21;01m.\u001b[39;00m\u001b[38;5;21;01mbasic_chat_history\u001b[39;00m\u001b[38;5;250m \u001b[39m\u001b[38;5;28;01mimport\u001b[39;00m (\n\u001b[1;32m      3\u001b[0m     BasicChatHistory,\n\u001b[1;32m      4\u001b[0m     BasicChatHistoryStrategy,\n\u001b[1;32m      5\u001b[0m     BasicChatMessageStore,\n\u001b[1;32m      6\u001b[0m )\n\u001b[1;32m      7\u001b[0m \u001b[38;5;28;01mfrom\u001b[39;00m\u001b[38;5;250m \u001b[39m\u001b[38;5;21;01m.\u001b[39;00m\u001b[38;5;21;01mmessages\u001b[39;00m\u001b[38;5;250m \u001b[39m\u001b[38;5;28;01mimport\u001b[39;00m (\n\u001b[1;32m      8\u001b[0m     ChatMessage,\n\u001b[1;32m      9\u001b[0m     SystemMessage,\n\u001b[0;32m   (...)\u001b[0m\n\u001b[1;32m     12\u001b[0m     ToolMessage,\n\u001b[1;32m     13\u001b[0m )\n",
      "File \u001b[0;32m~/cgv/hereditary/gutbrainie-clef/.venv/lib/python3.12/site-packages/llama_cpp_agent/chat_history/basic_chat_history.py:16\u001b[0m\n\u001b[1;32m      7\u001b[0m \u001b[38;5;28;01mfrom\u001b[39;00m\u001b[38;5;250m \u001b[39m\u001b[38;5;21;01mllama_cpp_agent\u001b[39;00m\u001b[38;5;21;01m.\u001b[39;00m\u001b[38;5;21;01mchat_history\u001b[39;00m\u001b[38;5;21;01m.\u001b[39;00m\u001b[38;5;21;01mchat_history_base\u001b[39;00m\u001b[38;5;250m \u001b[39m\u001b[38;5;28;01mimport\u001b[39;00m ChatMessageStore, ChatHistory\n\u001b[1;32m      8\u001b[0m \u001b[38;5;28;01mfrom\u001b[39;00m\u001b[38;5;250m \u001b[39m\u001b[38;5;21;01mllama_cpp_agent\u001b[39;00m\u001b[38;5;21;01m.\u001b[39;00m\u001b[38;5;21;01mchat_history\u001b[39;00m\u001b[38;5;21;01m.\u001b[39;00m\u001b[38;5;21;01mmessages\u001b[39;00m\u001b[38;5;250m \u001b[39m\u001b[38;5;28;01mimport\u001b[39;00m (\n\u001b[1;32m      9\u001b[0m     ChatMessage,\n\u001b[1;32m     10\u001b[0m     UserMessage,\n\u001b[0;32m   (...)\u001b[0m\n\u001b[1;32m     14\u001b[0m     convert_messages_to_list_of_dictionaries, ToolMessage, generate_function_call_id,\n\u001b[1;32m     15\u001b[0m )\n\u001b[0;32m---> 16\u001b[0m \u001b[38;5;28;01mfrom\u001b[39;00m\u001b[38;5;250m \u001b[39m\u001b[38;5;21;01mllama_cpp_agent\u001b[39;00m\u001b[38;5;21;01m.\u001b[39;00m\u001b[38;5;21;01mproviders\u001b[39;00m\u001b[38;5;21;01m.\u001b[39;00m\u001b[38;5;21;01mprovider_base\u001b[39;00m\u001b[38;5;250m \u001b[39m\u001b[38;5;28;01mimport\u001b[39;00m LlmProvider\n\u001b[1;32m     19\u001b[0m \u001b[38;5;28;01mclass\u001b[39;00m\u001b[38;5;250m \u001b[39m\u001b[38;5;21;01mBasicChatMessageStore\u001b[39;00m(ChatMessageStore):\n\u001b[1;32m     20\u001b[0m     \u001b[38;5;28;01mdef\u001b[39;00m\u001b[38;5;250m \u001b[39m\u001b[38;5;21m__init__\u001b[39m(\u001b[38;5;28mself\u001b[39m, messages: List[ChatMessage] \u001b[38;5;241m=\u001b[39m \u001b[38;5;28;01mNone\u001b[39;00m):\n",
      "File \u001b[0;32m~/cgv/hereditary/gutbrainie-clef/.venv/lib/python3.12/site-packages/llama_cpp_agent/providers/__init__.py:1\u001b[0m\n\u001b[0;32m----> 1\u001b[0m \u001b[38;5;28;01mfrom\u001b[39;00m\u001b[38;5;250m \u001b[39m\u001b[38;5;21;01m.\u001b[39;00m\u001b[38;5;21;01mllama_cpp_server\u001b[39;00m\u001b[38;5;250m \u001b[39m\u001b[38;5;28;01mimport\u001b[39;00m LlamaCppServerProvider, LlamaCppSamplingSettings\n\u001b[1;32m      2\u001b[0m \u001b[38;5;28;01mfrom\u001b[39;00m\u001b[38;5;250m \u001b[39m\u001b[38;5;21;01m.\u001b[39;00m\u001b[38;5;21;01mllama_cpp_python\u001b[39;00m\u001b[38;5;250m \u001b[39m\u001b[38;5;28;01mimport\u001b[39;00m LlamaCppPythonProvider\n\u001b[1;32m      3\u001b[0m \u001b[38;5;28;01mfrom\u001b[39;00m\u001b[38;5;250m \u001b[39m\u001b[38;5;21;01m.\u001b[39;00m\u001b[38;5;21;01mtgi_server\u001b[39;00m\u001b[38;5;250m \u001b[39m\u001b[38;5;28;01mimport\u001b[39;00m TGIServerProvider, TGIServerSamplingSettings\n",
      "File \u001b[0;32m~/cgv/hereditary/gutbrainie-clef/.venv/lib/python3.12/site-packages/llama_cpp_agent/providers/llama_cpp_server.py:8\u001b[0m\n\u001b[1;32m      4\u001b[0m \u001b[38;5;28;01mfrom\u001b[39;00m\u001b[38;5;250m \u001b[39m\u001b[38;5;21;01mtyping\u001b[39;00m\u001b[38;5;250m \u001b[39m\u001b[38;5;28;01mimport\u001b[39;00m List, Dict, Union\n\u001b[1;32m      6\u001b[0m \u001b[38;5;28;01mimport\u001b[39;00m\u001b[38;5;250m \u001b[39m\u001b[38;5;21;01mrequests\u001b[39;00m\n\u001b[0;32m----> 8\u001b[0m \u001b[38;5;28;01mfrom\u001b[39;00m\u001b[38;5;250m \u001b[39m\u001b[38;5;21;01mllama_cpp_agent\u001b[39;00m\u001b[38;5;21;01m.\u001b[39;00m\u001b[38;5;21;01mllm_output_settings\u001b[39;00m\u001b[38;5;250m \u001b[39m\u001b[38;5;28;01mimport\u001b[39;00m (\n\u001b[1;32m      9\u001b[0m     LlmStructuredOutputType,\n\u001b[1;32m     10\u001b[0m     LlmStructuredOutputSettings,\n\u001b[1;32m     11\u001b[0m )\n\u001b[1;32m     12\u001b[0m \u001b[38;5;28;01mfrom\u001b[39;00m\u001b[38;5;250m \u001b[39m\u001b[38;5;21;01mllama_cpp_agent\u001b[39;00m\u001b[38;5;21;01m.\u001b[39;00m\u001b[38;5;21;01mproviders\u001b[39;00m\u001b[38;5;21;01m.\u001b[39;00m\u001b[38;5;21;01mprovider_base\u001b[39;00m\u001b[38;5;250m \u001b[39m\u001b[38;5;28;01mimport\u001b[39;00m (\n\u001b[1;32m     13\u001b[0m     LlmProviderId,\n\u001b[1;32m     14\u001b[0m     LlmProvider,\n\u001b[1;32m     15\u001b[0m     LlmSamplingSettings,\n\u001b[1;32m     16\u001b[0m )\n\u001b[1;32m     19\u001b[0m \u001b[38;5;129m@dataclass\u001b[39m\n\u001b[1;32m     20\u001b[0m \u001b[38;5;28;01mclass\u001b[39;00m\u001b[38;5;250m \u001b[39m\u001b[38;5;21;01mLlamaCppSamplingSettings\u001b[39;00m(LlmSamplingSettings):\n",
      "File \u001b[0;32m~/cgv/hereditary/gutbrainie-clef/.venv/lib/python3.12/site-packages/llama_cpp_agent/llm_output_settings/__init__.py:1\u001b[0m\n\u001b[0;32m----> 1\u001b[0m \u001b[38;5;28;01mfrom\u001b[39;00m\u001b[38;5;250m \u001b[39m\u001b[38;5;21;01m.\u001b[39;00m\u001b[38;5;21;01msettings\u001b[39;00m\u001b[38;5;250m \u001b[39m\u001b[38;5;28;01mimport\u001b[39;00m LlmStructuredOutputType, LlmStructuredOutputSettings\n",
      "File \u001b[0;32m~/cgv/hereditary/gutbrainie-clef/.venv/lib/python3.12/site-packages/llama_cpp_agent/llm_output_settings/settings.py:8\u001b[0m\n\u001b[1;32m      4\u001b[0m \u001b[38;5;28;01mfrom\u001b[39;00m\u001b[38;5;250m \u001b[39m\u001b[38;5;21;01mtyping\u001b[39;00m\u001b[38;5;250m \u001b[39m\u001b[38;5;28;01mimport\u001b[39;00m Dict, List, Optional, Any, Callable, Tuple, Union\n\u001b[1;32m      6\u001b[0m \u001b[38;5;28;01mfrom\u001b[39;00m\u001b[38;5;250m \u001b[39m\u001b[38;5;21;01mpydantic\u001b[39;00m\u001b[38;5;250m \u001b[39m\u001b[38;5;28;01mimport\u001b[39;00m BaseModel, Field\n\u001b[0;32m----> 8\u001b[0m \u001b[38;5;28;01mfrom\u001b[39;00m\u001b[38;5;250m \u001b[39m\u001b[38;5;21;01mllama_cpp_agent\u001b[39;00m\u001b[38;5;21;01m.\u001b[39;00m\u001b[38;5;21;01mfunction_calling\u001b[39;00m\u001b[38;5;250m \u001b[39m\u001b[38;5;28;01mimport\u001b[39;00m LlamaCppFunctionTool\n\u001b[1;32m      9\u001b[0m \u001b[38;5;28;01mfrom\u001b[39;00m\u001b[38;5;250m \u001b[39m\u001b[38;5;21;01mllama_cpp_agent\u001b[39;00m\u001b[38;5;21;01m.\u001b[39;00m\u001b[38;5;21;01mgbnf_grammar_generator\u001b[39;00m\u001b[38;5;21;01m.\u001b[39;00m\u001b[38;5;21;01mgbnf_grammar_from_pydantic_models\u001b[39;00m\u001b[38;5;250m \u001b[39m\u001b[38;5;28;01mimport\u001b[39;00m (\n\u001b[1;32m     10\u001b[0m     generate_gbnf_grammar_from_pydantic_models,\n\u001b[1;32m     11\u001b[0m )\n\u001b[1;32m     12\u001b[0m \u001b[38;5;28;01mfrom\u001b[39;00m\u001b[38;5;250m \u001b[39m\u001b[38;5;21;01mllama_cpp_agent\u001b[39;00m\u001b[38;5;21;01m.\u001b[39;00m\u001b[38;5;21;01mjson_schema_generator\u001b[39;00m\u001b[38;5;21;01m.\u001b[39;00m\u001b[38;5;21;01mschema_generator\u001b[39;00m\u001b[38;5;250m \u001b[39m\u001b[38;5;28;01mimport\u001b[39;00m generate_json_schemas\n",
      "File \u001b[0;32m~/cgv/hereditary/gutbrainie-clef/.venv/lib/python3.12/site-packages/llama_cpp_agent/function_calling.py:8\u001b[0m\n\u001b[1;32m      5\u001b[0m \u001b[38;5;28;01mfrom\u001b[39;00m\u001b[38;5;250m \u001b[39m\u001b[38;5;21;01mtypes\u001b[39;00m\u001b[38;5;250m \u001b[39m\u001b[38;5;28;01mimport\u001b[39;00m GenericAlias\n\u001b[1;32m      6\u001b[0m \u001b[38;5;28;01mfrom\u001b[39;00m\u001b[38;5;250m \u001b[39m\u001b[38;5;21;01mtyping\u001b[39;00m\u001b[38;5;250m \u001b[39m\u001b[38;5;28;01mimport\u001b[39;00m Type, List, Callable, Any, Union, Tuple, Dict\n\u001b[0;32m----> 8\u001b[0m \u001b[38;5;28;01mfrom\u001b[39;00m\u001b[38;5;250m \u001b[39m\u001b[38;5;21;01mllama_cpp\u001b[39;00m\u001b[38;5;250m \u001b[39m\u001b[38;5;28;01mimport\u001b[39;00m LlamaGrammar\n\u001b[1;32m      9\u001b[0m \u001b[38;5;28;01mfrom\u001b[39;00m\u001b[38;5;250m \u001b[39m\u001b[38;5;21;01mpydantic\u001b[39;00m\u001b[38;5;250m \u001b[39m\u001b[38;5;28;01mimport\u001b[39;00m BaseModel\n\u001b[1;32m     11\u001b[0m \u001b[38;5;28;01mfrom\u001b[39;00m\u001b[38;5;250m \u001b[39m\u001b[38;5;21;01m.\u001b[39;00m\u001b[38;5;21;01moutput_parser\u001b[39;00m\u001b[38;5;250m \u001b[39m\u001b[38;5;28;01mimport\u001b[39;00m (\n\u001b[1;32m     12\u001b[0m     parse_json_response_with_markdown_code_block_or_triple_quoted_string,\n\u001b[1;32m     13\u001b[0m     parse_json_response,\n\u001b[1;32m     14\u001b[0m )\n",
      "File \u001b[0;32m~/cgv/hereditary/gutbrainie-clef/.venv/lib/python3.12/site-packages/llama_cpp/__init__.py:1\u001b[0m\n\u001b[0;32m----> 1\u001b[0m \u001b[38;5;28;01mfrom\u001b[39;00m\u001b[38;5;250m \u001b[39m\u001b[38;5;21;01m.\u001b[39;00m\u001b[38;5;21;01mllama_cpp\u001b[39;00m\u001b[38;5;250m \u001b[39m\u001b[38;5;28;01mimport\u001b[39;00m \u001b[38;5;241m*\u001b[39m\n\u001b[1;32m      2\u001b[0m \u001b[38;5;28;01mfrom\u001b[39;00m\u001b[38;5;250m \u001b[39m\u001b[38;5;21;01m.\u001b[39;00m\u001b[38;5;21;01mllama\u001b[39;00m\u001b[38;5;250m \u001b[39m\u001b[38;5;28;01mimport\u001b[39;00m \u001b[38;5;241m*\u001b[39m\n\u001b[1;32m      4\u001b[0m __version__ \u001b[38;5;241m=\u001b[39m \u001b[38;5;124m\"\u001b[39m\u001b[38;5;124m0.3.4\u001b[39m\u001b[38;5;124m\"\u001b[39m\n",
      "File \u001b[0;32m~/cgv/hereditary/gutbrainie-clef/.venv/lib/python3.12/site-packages/llama_cpp/llama_cpp.py:38\u001b[0m\n\u001b[1;32m     36\u001b[0m _base_path \u001b[38;5;241m=\u001b[39m pathlib\u001b[38;5;241m.\u001b[39mPath(os\u001b[38;5;241m.\u001b[39mpath\u001b[38;5;241m.\u001b[39mabspath(os\u001b[38;5;241m.\u001b[39mpath\u001b[38;5;241m.\u001b[39mdirname(\u001b[38;5;18m__file__\u001b[39m))) \u001b[38;5;241m/\u001b[39m \u001b[38;5;124m\"\u001b[39m\u001b[38;5;124mlib\u001b[39m\u001b[38;5;124m\"\u001b[39m \u001b[38;5;28;01mif\u001b[39;00m _override_base_path \u001b[38;5;129;01mis\u001b[39;00m \u001b[38;5;28;01mNone\u001b[39;00m \u001b[38;5;28;01melse\u001b[39;00m pathlib\u001b[38;5;241m.\u001b[39mPath(_override_base_path)\n\u001b[1;32m     37\u001b[0m \u001b[38;5;66;03m# Load the library\u001b[39;00m\n\u001b[0;32m---> 38\u001b[0m _lib \u001b[38;5;241m=\u001b[39m \u001b[43mload_shared_library\u001b[49m\u001b[43m(\u001b[49m\u001b[43m_lib_base_name\u001b[49m\u001b[43m,\u001b[49m\u001b[43m \u001b[49m\u001b[43m_base_path\u001b[49m\u001b[43m)\u001b[49m\n\u001b[1;32m     40\u001b[0m ctypes_function \u001b[38;5;241m=\u001b[39m ctypes_function_for_shared_library(_lib)\n\u001b[1;32m     43\u001b[0m \u001b[38;5;66;03m# from ggml.h\u001b[39;00m\n\u001b[1;32m     44\u001b[0m \u001b[38;5;66;03m# // NOTE: always add types at the end of the enum to keep backward compatibility\u001b[39;00m\n\u001b[1;32m     45\u001b[0m \u001b[38;5;66;03m# enum ggml_type {\u001b[39;00m\n\u001b[0;32m   (...)\u001b[0m\n\u001b[1;32m     76\u001b[0m \u001b[38;5;66;03m#     GGML_TYPE_COUNT,\u001b[39;00m\n\u001b[1;32m     77\u001b[0m \u001b[38;5;66;03m# };\u001b[39;00m\n",
      "File \u001b[0;32m~/cgv/hereditary/gutbrainie-clef/.venv/lib/python3.12/site-packages/llama_cpp/_ctypes_extensions.py:69\u001b[0m, in \u001b[0;36mload_shared_library\u001b[0;34m(lib_base_name, base_path)\u001b[0m\n\u001b[1;32m     67\u001b[0m             \u001b[38;5;28;01mreturn\u001b[39;00m ctypes\u001b[38;5;241m.\u001b[39mCDLL(\u001b[38;5;28mstr\u001b[39m(lib_path), \u001b[38;5;241m*\u001b[39m\u001b[38;5;241m*\u001b[39mcdll_args)  \u001b[38;5;66;03m# type: ignore\u001b[39;00m\n\u001b[1;32m     68\u001b[0m         \u001b[38;5;28;01mexcept\u001b[39;00m \u001b[38;5;167;01mException\u001b[39;00m \u001b[38;5;28;01mas\u001b[39;00m e:\n\u001b[0;32m---> 69\u001b[0m             \u001b[38;5;28;01mraise\u001b[39;00m \u001b[38;5;167;01mRuntimeError\u001b[39;00m(\u001b[38;5;124mf\u001b[39m\u001b[38;5;124m\"\u001b[39m\u001b[38;5;124mFailed to load shared library \u001b[39m\u001b[38;5;124m'\u001b[39m\u001b[38;5;132;01m{\u001b[39;00mlib_path\u001b[38;5;132;01m}\u001b[39;00m\u001b[38;5;124m'\u001b[39m\u001b[38;5;124m: \u001b[39m\u001b[38;5;132;01m{\u001b[39;00me\u001b[38;5;132;01m}\u001b[39;00m\u001b[38;5;124m\"\u001b[39m)\n\u001b[1;32m     71\u001b[0m \u001b[38;5;28;01mraise\u001b[39;00m \u001b[38;5;167;01mFileNotFoundError\u001b[39;00m(\n\u001b[1;32m     72\u001b[0m     \u001b[38;5;124mf\u001b[39m\u001b[38;5;124m\"\u001b[39m\u001b[38;5;124mShared library with base name \u001b[39m\u001b[38;5;124m'\u001b[39m\u001b[38;5;132;01m{\u001b[39;00mlib_base_name\u001b[38;5;132;01m}\u001b[39;00m\u001b[38;5;124m'\u001b[39m\u001b[38;5;124m not found\u001b[39m\u001b[38;5;124m\"\u001b[39m\n\u001b[1;32m     73\u001b[0m )\n",
      "\u001b[0;31mRuntimeError\u001b[0m: Failed to load shared library '/home/kanben/cgv/hereditary/gutbrainie-clef/.venv/lib/python3.12/site-packages/llama_cpp/lib/libllama.so': libcudart.so.12: cannot open shared object file: No such file or directory"
     ]
    }
   ],
   "source": [
    "from constrerl.annotator import (\n",
    "    Annotator,\n",
    "    EnumERLModel,\n",
    "    StringERLModel,\n",
    "    convert_to_enum_model,\n",
    "    convert_to_string_model,\n",
    "    load_test,\n",
    "    load_train,\n",
    "    Article,\n",
    ")\n",
    "from llama_cpp import Llama, ChatCompletionRequestMessage, LlamaGrammar\n",
    "import json\n",
    "from tqdm import tqdm\n",
    "import sys"
   ]
  },
  {
   "cell_type": "code",
   "execution_count": null,
   "metadata": {},
   "outputs": [],
   "source": [
    "import pathlib as pl"
   ]
  },
  {
   "cell_type": "code",
   "execution_count": null,
   "metadata": {},
   "outputs": [],
   "source": [
    "train_data_dir = pl.Path(\"data/annotations/train\")\n",
    "test_data_dir = pl.Path(\"data/annotations/dev\")\n",
    "train_data_files = list(train_data_dir.glob(\"*.json\"))\n",
    "test_data_files = list(test_data_dir.glob(\"*.json\"))\n",
    "\n",
    "train_data: dict[str, Article] = {}\n",
    "for file in train_data_files:\n",
    "    train_data.update(load_train(file))"
   ]
  },
  {
   "cell_type": "code",
   "execution_count": null,
   "metadata": {},
   "outputs": [
    {
     "data": {
      "text/plain": [
       "1567"
      ]
     },
     "execution_count": 5,
     "metadata": {},
     "output_type": "execute_result"
    }
   ],
   "source": [
    "len(train_data)"
   ]
  },
  {
   "cell_type": "code",
   "execution_count": 11,
   "metadata": {},
   "outputs": [
    {
     "name": "stderr",
     "output_type": "stream",
     "text": [
      "Building train data chats train_data_chats_bronze.json: 100%|██████████| 749/749 [01:10<00:00, 10.58it/s]\n",
      "Building train data chats train_data_chats_gold.json: 100%|██████████| 208/208 [00:18<00:00, 11.08it/s]\n",
      "Building train data chats train_data_chats_platinum.json: 100%|██████████| 111/111 [00:10<00:00, 10.44it/s]\n",
      "Building train data chats train_data_chats_silver.json: 100%|██████████| 499/499 [00:51<00:00,  9.77it/s]\n",
      "Building train data chats train_data_chats_dev.json: 100%|██████████| 40/40 [00:03<00:00, 10.73it/s]\n",
      "Building train data chats train_data_chats.json: 100%|██████████| 1567/1567 [02:31<00:00, 10.36it/s]\n"
     ]
    }
   ],
   "source": [
    "annotator = Annotator()\n",
    "failed_articles: list[tuple[Article, Exception]] = []\n",
    "\n",
    "\n",
    "def export_train_date(train_data: dict[str, Article], path: pl.Path):\n",
    "    train_data_chats = []\n",
    "    for article in tqdm(\n",
    "        train_data.values(), desc=\"Building train data chats \" + path.name\n",
    "    ):\n",
    "        # try:\n",
    "        similar_articles = annotator.find_similar_examples(article.metadata)\n",
    "        full_chat = similar_articles + [article]\n",
    "        chat_elements = [Annotator.prompt_and_respone(article) for article in full_chat]\n",
    "        chat: list[ChatCompletionRequestMessage] = []\n",
    "        for i, chat_element in enumerate(chat_elements):\n",
    "            for chat_message in chat_element:\n",
    "                chat.append(chat_message)\n",
    "        train_data_chats.append(\n",
    "            {\n",
    "                \"article\": article.metadata.title,\n",
    "                \"messages\": chat,\n",
    "            }\n",
    "        )\n",
    "    # except Exception as e:\n",
    "    #     failed_articles.append(\n",
    "    #         (\n",
    "    #             article,\n",
    "    #             e,\n",
    "    #         )\n",
    "    #     )\n",
    "\n",
    "    with open(path, \"w\") as f:\n",
    "        json.dump(train_data_chats, f)\n",
    "    # jsonl dump\n",
    "    with open(path.with_suffix(\".jsonl\"), \"w\") as f:\n",
    "        for chat in train_data_chats:\n",
    "            # with system prompt\n",
    "            del chat[\"article\"]\n",
    "            chat[\"messages\"] = annotator.example_messages + chat[\"messages\"]\n",
    "            f.write(json.dumps(chat) + \"\\n\")\n",
    "\n",
    "\n",
    "for train_data_file in train_data_files + test_data_files:\n",
    "    collection_name = train_data_file.name.split(\".\")[0].split(\"_\")[-1]\n",
    "    export_train_date(\n",
    "        load_train(train_data_file),\n",
    "        pl.Path(\n",
    "            *train_data_file.parts[:-3], f\"train_data_chats_{collection_name}.json\"\n",
    "        ),\n",
    "    )\n",
    "export_train_date(train_data, pl.Path(\"data/annotations/train_data_chats.json\"))"
   ]
  },
  {
   "cell_type": "code",
   "execution_count": null,
   "metadata": {},
   "outputs": [],
   "source": [
    "missing_relations_all = {}\n",
    "for article, err in failed_articles:\n",
    "    missing_relations: dict[str, dict[str, str]] = {}\n",
    "    for e in err.errors():\n",
    "        index = e[\"loc\"][1]\n",
    "        spo_id = e[\"loc\"][-1]\n",
    "        if index not in missing_relations:\n",
    "            missing_relations[index] = {\n",
    "                \"subject_label\": None,\n",
    "                \"predicate\": None,\n",
    "                \"object_label\": None,\n",
    "            }\n",
    "        missing_relations[index][spo_id] = e[\"input\"]\n",
    "    for index, missing_relation in missing_relations.items():\n",
    "        names = missing_relation.values()\n",
    "        spo= \"->\".join(names)\n",
    "        if spo not in missing_relations_all:\n",
    "            missing_relations_all[ \"->\".join(names)] = []\n",
    "        missing_relations_all[spo].append(article.metadata.title)"
   ]
  },
  {
   "cell_type": "code",
   "execution_count": null,
   "metadata": {},
   "outputs": [
    {
     "name": "stdout",
     "output_type": "stream",
     "text": [
      "[]\n"
     ]
    }
   ],
   "source": [
    "\n",
    "relations_missing = []\n",
    "for spo, articles in missing_relations_all.items():\n",
    "    s, p, o = spo.split(\"->\")\n",
    "    relations_missing.append(   \n",
    "            {\n",
    "                \"heads\": [s],\n",
    "                \"tails\": [o],\n",
    "                \"predicate\": [p],\n",
    "            }\n",
    "    )\n",
    "print(json.dumps(relations_missing, indent=2))"
   ]
  }
 ],
 "metadata": {
  "kernelspec": {
   "display_name": ".venv",
   "language": "python",
   "name": "python3"
  },
  "language_info": {
   "codemirror_mode": {
    "name": "ipython",
    "version": 3
   },
   "file_extension": ".py",
   "mimetype": "text/x-python",
   "name": "python",
   "nbconvert_exporter": "python",
   "pygments_lexer": "ipython3",
   "version": "3.12.9"
  }
 },
 "nbformat": 4,
 "nbformat_minor": 2
}
