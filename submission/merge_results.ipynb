{
 "cells": [
  {
   "cell_type": "code",
   "execution_count": 2,
   "metadata": {},
   "outputs": [],
   "source": [
    "%load_ext autoreload\n",
    "%autoreload 2"
   ]
  },
  {
   "cell_type": "code",
   "execution_count": 3,
   "metadata": {},
   "outputs": [],
   "source": [
    "\n",
    "from constrerl.erl_schema import convert_to_output, Article, TernaryMentionBasedRelation, TernaryTagBasedRelation, BinaryTagBasedRelation\n",
    "from constrerl.annotator import load_test, load_train\n",
    "import glob\n",
    "from pathlib import Path\n",
    "import json\n",
    "import pandas as pd\n",
    "from collections.abc import Callable, Awaitable\n"
   ]
  },
  {
   "cell_type": "code",
   "execution_count": null,
   "metadata": {},
   "outputs": [],
   "source": [
    "set_type = \"dev\"\n",
    "results_dir = Path(f\"../data/results_{set_type}\")\n",
    "merge_dir = Path(f\"../data/merge_self_{set_type}\")\n",
    "\n",
    "onto_file = f\"../data/tug_{set_type}_results.json\"\n",
    "\n",
    "results_dir = Path(results_dir)\n",
    "onto_file = Path(onto_file)"
   ]
  },
  {
   "cell_type": "code",
   "execution_count": 5,
   "metadata": {},
   "outputs": [],
   "source": [
    "onto_data = load_train(onto_file)\n",
    "result_datas: dict[str, dict[str, Article]] = {\n",
    "    rf.name.split(\".\")[0]: load_train(rf) for rf in results_dir.glob(\"*.json\")\n",
    "}"
   ]
  },
  {
   "cell_type": "code",
   "execution_count": 6,
   "metadata": {},
   "outputs": [],
   "source": [
    "for k, result_data in result_datas.items():\n",
    "    merged_data: dict[str, dict[str, Article]] = {}\n",
    "    for id, v in onto_data.items():\n",
    "        tmbrs = v.ternary_mention_based_relations\n",
    "        tug_result = (\n",
    "            result_data[id]\n",
    "            if id in result_data\n",
    "            else Article(ternary_mention_based_relations=[])\n",
    "        )\n",
    "        ttbrs_onto = [\n",
    "            (ttbr.subject_label, ttbr.predicate, ttbr.object_label) for ttbr in tmbrs\n",
    "        ]\n",
    "\n",
    "        ttbrs_tug = [\n",
    "            (ttbr.subject_label, ttbr.predicate, ttbr.object_label)\n",
    "            for ttbr in tug_result.ternary_mention_based_relations\n",
    "        ]\n",
    "        id_sets = {\n",
    "            \"union\": set(ttbrs_tug).union(ttbrs_onto),\n",
    "            \"intersection\": set(ttbrs_tug).intersection(ttbrs_onto),\n",
    "        }\n",
    "        merged_articles = {\n",
    "            n: Article(\n",
    "                ternary_mention_based_relations=[],\n",
    "                ternary_tag_based_relations=[],\n",
    "                binary_tag_based_relations=[],\n",
    "            )\n",
    "            for n in id_sets.keys()\n",
    "        }\n",
    "        for n, id_set in id_sets.items():\n",
    "            for id_tuple in id_set:\n",
    "                s, p, o = id_tuple\n",
    "                tmbrs_combined = [\n",
    "                    tmbr\n",
    "                    for tmbr in tmbrs + tug_result.ternary_mention_based_relations\n",
    "                    if (tmbr.subject_label, tmbr.predicate, tmbr.object_label)\n",
    "                    == id_tuple\n",
    "                ]\n",
    "                for tmbr in tmbrs_combined:\n",
    "                    merged_articles[n].ternary_mention_based_relations.append(\n",
    "                        TernaryMentionBasedRelation(\n",
    "                            subject_label=tmbr.subject_label,\n",
    "                            predicate=tmbr.predicate,\n",
    "                            object_label=tmbr.object_label,\n",
    "                            subject_text_span=tmbr.subject_text_span,\n",
    "                            object_text_span=tmbr.object_text_span,\n",
    "                        )\n",
    "                    )\n",
    "                merged_articles[n].ternary_tag_based_relations.append(\n",
    "                    TernaryTagBasedRelation(\n",
    "                        subject_label=s,\n",
    "                        predicate=p,\n",
    "                        object_label=o,\n",
    "                    )\n",
    "                )\n",
    "                merged_articles[n].binary_tag_based_relations.append(\n",
    "                    BinaryTagBasedRelation(\n",
    "                        subject_label=s,\n",
    "                        object_label=o,\n",
    "                    )\n",
    "                )\n",
    "            if n not in merged_data:\n",
    "                merged_data[n] = {}\n",
    "            merged_data[n][id] = merged_articles[n]\n",
    "        # ttbrs = [\n",
    "        #     TernaryTagBasedRelation.model_validate_json(tmbr.model_dump_json())\n",
    "        #     for tmbr in tmbrs\n",
    "        # ]\n",
    "        # btrs = [\n",
    "        #     BinaryTagBasedRelation.model_validate_json(tmbr.model_dump_json())\n",
    "        #     for tmbr in tmbrs\n",
    "        # ]\n",
    "    for n, merged_data_method in merged_data.items():\n",
    "        merged_articles = {\n",
    "            id: article.model_dump() for id, article in merged_data_method.items()\n",
    "        }\n",
    "        with open(merge_dir / f\"{k}_{n}.json\", \"w\") as f:\n",
    "            json.dump(merged_articles, f, indent=4)"
   ]
  }
 ],
 "metadata": {
  "kernelspec": {
   "display_name": ".venv",
   "language": "python",
   "name": "python3"
  },
  "language_info": {
   "codemirror_mode": {
    "name": "ipython",
    "version": 3
   },
   "file_extension": ".py",
   "mimetype": "text/x-python",
   "name": "python",
   "nbconvert_exporter": "python",
   "pygments_lexer": "ipython3",
   "version": "3.12.8"
  }
 },
 "nbformat": 4,
 "nbformat_minor": 2
}
